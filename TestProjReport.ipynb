{
 "cells": [
  {
   "cell_type": "markdown",
   "id": "fcd56713",
   "metadata": {},
   "source": [
    "# Report on BG CV test task"
   ]
  },
  {
   "cell_type": "markdown",
   "id": "0a377a42",
   "metadata": {},
   "source": [
    "### this notebook has the following structure:\n",
    "\n",
    "* [0.0-Problem description](#description)\n",
    "* [1.0-CNN Image classifier](#image-classifier)\n",
    "* [1.1-----Data overview](#image-classifier-data-overview)\n"
   ]
  },
  {
   "cell_type": "markdown",
   "id": "e70c9735",
   "metadata": {},
   "source": [
    "## 0.0 Problem description <a class=\"anchor\" id=\"description\"></a>"
   ]
  },
  {
   "cell_type": "markdown",
   "id": "3e58c4ee",
   "metadata": {},
   "source": [
    "**Problem 1:**\n",
    "> Используя фреймворк pytorch, реализуйте архитектуру для\n",
    "классификации изображений по стилям художников. Для решения задачи можно\n",
    "взять достаточно простые архитектуры.\n",
    "Изображения для обучения необходимо уменьшить до размера 64x64 или\n",
    "128x128(при наличии ресурсов). Обучить реализованную модель на\n",
    "предобработанном датасете. Нарисовать графики изменения значений лосса и\n",
    "выбранных метрик по эпохам.\n",
    "Результаты представить представить в Jupyter ноутбуке.\n",
    "\n",
    "**Problem 1 extras:** \n",
    "> Вместо выхода сети-классификатора используйте одномерный вектор с\n",
    "предпоследнего слоя сети. Используя этот вектор, как набор признаков для каждого\n",
    "изображения, попробуйте кластеризовать получившийся датасет векторов любым\n",
    "подходящим (по вашему мнению) алгоритмом. Попробуйте определить, по каким\n",
    "признакам различаются полученные кластера.\n",
    "Используя набор признаков, полученных в предыдущем пункте, примените\n",
    "XGBoost для решения задачи классификации. Сравните метрики качества XGBoost\n",
    "и нейронной сети.\n",
    "\n",
    "**Problem 2:** \n",
    "> Необходимо реализовать алгоритм knn(k nearest neighbors) на python и c++ (по\n",
    "возможности).\n",
    "Минимальный прототип:\n",
    "```\n",
    "def knn(points, k=10)\n",
    "```\n",
    "> При необходимости аргументы можно добавлять.\n",
    "points - матрица размера NxM, где N - количество точек, M-размерность\n",
    "пространства. В качестве выхода матрица Nxk с индексами ближайших k соседей,\n",
    "отсортированных по L2 расстоянию. Для теста использовать рандомно\n",
    "сгенерированные точки. Программа должна работать для значений N, M и k порядка\n",
    "10^4, 20, 30 соответственно.\n",
    "\n",
    "**Problem 2 extras:** \n",
    "> Добавить в функцию аргумент metric, с помощью которого можно выбирать способ\n",
    "вычисления расстояния. Реализовать подобный алгоритм для L1 и cosine distance."
   ]
  },
  {
   "cell_type": "markdown",
   "id": "72c8e889",
   "metadata": {},
   "source": [
    "## 1.0 CNN Image classifier <a class=\"anchor\" id=\"image-classifier\"></a>"
   ]
  },
  {
   "cell_type": "code",
   "execution_count": null,
   "id": "b79b0cbd",
   "metadata": {},
   "outputs": [],
   "source": []
  }
 ],
 "metadata": {
  "kernelspec": {
   "display_name": "Python 3",
   "language": "python",
   "name": "python3"
  },
  "language_info": {
   "codemirror_mode": {
    "name": "ipython",
    "version": 3
   },
   "file_extension": ".py",
   "mimetype": "text/x-python",
   "name": "python",
   "nbconvert_exporter": "python",
   "pygments_lexer": "ipython3",
   "version": "3.7.6"
  }
 },
 "nbformat": 4,
 "nbformat_minor": 5
}
